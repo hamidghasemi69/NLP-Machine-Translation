{
 "cells": [
  {
   "cell_type": "markdown",
   "metadata": {
    "collapsed": true
   },
   "source": [
    "# Artificial Intelligence Nanodegree\n",
    "## Machine Translation Project\n",
    "In this notebook, sections that end with **'(IMPLEMENTATION)'** in the header indicate that the following blocks of code will require additional functionality which you must provide. Please be sure to read the instructions carefully!\n",
    "\n",
    "## Introduction\n",
    "In this notebook, you will build a deep neural network that functions as part of an end-to-end machine translation pipeline. Your completed pipeline will accept English text as input and return the French translation.\n",
    "\n",
    "- **Preprocess** - You'll convert text to sequence of integers.\n",
    "- **Models** Create models which accepts a sequence of integers as input and returns a probability distribution over possible translations. After learning about the basic types of neural networks that are often used for machine translation, you will engage in your own investigations, to design your own model!\n",
    "- **Prediction** Run the model on English text."
   ]
  },
  {
   "cell_type": "code",
   "execution_count": 1,
   "metadata": {},
   "outputs": [],
   "source": [
    "%load_ext autoreload\n",
    "%aimport helper, tests\n",
    "%autoreload 1"
   ]
  },
  {
   "cell_type": "code",
   "execution_count": 11,
   "metadata": {},
   "outputs": [],
   "source": [
    "import collections\n",
    "\n",
    "import helper\n",
    "import numpy as np\n",
    "import project_tests as tests\n",
    "from keras.preprocessing.text import Tokenizer\n",
    "from keras.preprocessing.sequence import pad_sequences\n",
    "from keras.models import Model\n",
    "from keras.layers import GRU, Input, Dense, LSTM, TimeDistributed, Activation, RepeatVector, Bidirectional\n",
    "from keras.layers.embeddings import Embedding\n",
    "from keras.optimizers import Adam\n",
    "from keras.losses import sparse_categorical_crossentropy"
   ]
  },
  {
   "cell_type": "markdown",
   "metadata": {},
   "source": [
    "### Verify access to the GPU\n",
    "The following test applies only if you expect to be using a GPU, e.g., while running in a Udacity Workspace or using an AWS instance with GPU support. Run the next cell, and verify that the device_type is \"GPU\".\n",
    "- If the device is not GPU & you are running from a Udacity Workspace, then save your workspace with the icon at the top, then click \"enable\" at the bottom of the workspace.\n",
    "- If the device is not GPU & you are running from an AWS instance, then refer to the cloud computing instructions in the classroom to verify your setup steps."
   ]
  },
  {
   "cell_type": "code",
   "execution_count": 3,
   "metadata": {},
   "outputs": [
    {
     "name": "stdout",
     "output_type": "stream",
     "text": [
      "[name: \"/cpu:0\"\n",
      "device_type: \"CPU\"\n",
      "memory_limit: 268435456\n",
      "locality {\n",
      "}\n",
      "incarnation: 9374338500829365495\n",
      ", name: \"/gpu:0\"\n",
      "device_type: \"GPU\"\n",
      "memory_limit: 357564416\n",
      "locality {\n",
      "  bus_id: 1\n",
      "}\n",
      "incarnation: 721821136430797912\n",
      "physical_device_desc: \"device: 0, name: Tesla K80, pci bus id: 0000:00:04.0\"\n",
      "]\n"
     ]
    }
   ],
   "source": [
    "from tensorflow.python.client import device_lib\n",
    "print(device_lib.list_local_devices())"
   ]
  },
  {
   "cell_type": "markdown",
   "metadata": {},
   "source": [
    "## Dataset\n",
    "We begin by investigating the dataset that will be used to train and evaluate your pipeline.  The most common datasets used for machine translation are from [WMT](http://www.statmt.org/).  However, that will take a long time to train a neural network on.  We'll be using a dataset we created for this project that contains a small vocabulary.  You'll be able to train your model in a reasonable time with this dataset.\n",
    "### Load Data\n",
    "The data is located in `data/small_vocab_en` and `data/small_vocab_fr`. The `small_vocab_en` file contains English sentences with their French translations in the `small_vocab_fr` file. Load the English and French data from these files from running the cell below."
   ]
  },
  {
   "cell_type": "code",
   "execution_count": 4,
   "metadata": {},
   "outputs": [
    {
     "name": "stdout",
     "output_type": "stream",
     "text": [
      "Dataset Loaded\n"
     ]
    }
   ],
   "source": [
    "# Load English data\n",
    "english_sentences = helper.load_data('data/small_vocab_en')\n",
    "# Load French data\n",
    "french_sentences = helper.load_data('data/small_vocab_fr')\n",
    "\n",
    "print('Dataset Loaded')"
   ]
  },
  {
   "cell_type": "markdown",
   "metadata": {},
   "source": [
    "### Files\n",
    "Each line in `small_vocab_en` contains an English sentence with the respective translation in each line of `small_vocab_fr`.  View the first two lines from each file."
   ]
  },
  {
   "cell_type": "code",
   "execution_count": 5,
   "metadata": {},
   "outputs": [
    {
     "name": "stdout",
     "output_type": "stream",
     "text": [
      "small_vocab_en Line 1:  new jersey is sometimes quiet during autumn , and it is snowy in april .\n",
      "small_vocab_fr Line 1:  new jersey est parfois calme pendant l' automne , et il est neigeux en avril .\n",
      "small_vocab_en Line 2:  the united states is usually chilly during july , and it is usually freezing in november .\n",
      "small_vocab_fr Line 2:  les états-unis est généralement froid en juillet , et il gèle habituellement en novembre .\n"
     ]
    }
   ],
   "source": [
    "for sample_i in range(2):\n",
    "    print('small_vocab_en Line {}:  {}'.format(sample_i + 1, english_sentences[sample_i]))\n",
    "    print('small_vocab_fr Line {}:  {}'.format(sample_i + 1, french_sentences[sample_i]))"
   ]
  },
  {
   "cell_type": "markdown",
   "metadata": {},
   "source": [
    "From looking at the sentences, you can see they have been preprocessed already.  The puncuations have been delimited using spaces. All the text have been converted to lowercase.  This should save you some time, but the text requires more preprocessing.\n",
    "### Vocabulary\n",
    "The complexity of the problem is determined by the complexity of the vocabulary.  A more complex vocabulary is a more complex problem.  Let's look at the complexity of the dataset we'll be working with."
   ]
  },
  {
   "cell_type": "code",
   "execution_count": 6,
   "metadata": {},
   "outputs": [
    {
     "name": "stdout",
     "output_type": "stream",
     "text": [
      "1823250 English words.\n",
      "227 unique English words.\n",
      "10 Most common words in the English dataset:\n",
      "\"is\" \",\" \".\" \"in\" \"it\" \"during\" \"the\" \"but\" \"and\" \"sometimes\"\n",
      "\n",
      "1961295 French words.\n",
      "355 unique French words.\n",
      "10 Most common words in the French dataset:\n",
      "\"est\" \".\" \",\" \"en\" \"il\" \"les\" \"mais\" \"et\" \"la\" \"parfois\"\n"
     ]
    }
   ],
   "source": [
    "english_words_counter = collections.Counter([word for sentence in english_sentences for word in sentence.split()])\n",
    "french_words_counter = collections.Counter([word for sentence in french_sentences for word in sentence.split()])\n",
    "\n",
    "print('{} English words.'.format(len([word for sentence in english_sentences for word in sentence.split()])))\n",
    "print('{} unique English words.'.format(len(english_words_counter)))\n",
    "print('10 Most common words in the English dataset:')\n",
    "print('\"' + '\" \"'.join(list(zip(*english_words_counter.most_common(10)))[0]) + '\"')\n",
    "print()\n",
    "print('{} French words.'.format(len([word for sentence in french_sentences for word in sentence.split()])))\n",
    "print('{} unique French words.'.format(len(french_words_counter)))\n",
    "print('10 Most common words in the French dataset:')\n",
    "print('\"' + '\" \"'.join(list(zip(*french_words_counter.most_common(10)))[0]) + '\"')"
   ]
  },
  {
   "cell_type": "markdown",
   "metadata": {},
   "source": [
    "For comparison, _Alice's Adventures in Wonderland_ contains 2,766 unique words of a total of 15,500 words.\n",
    "## Preprocess\n",
    "For this project, you won't use text data as input to your model. Instead, you'll convert the text into sequences of integers using the following preprocess methods:\n",
    "1. Tokenize the words into ids\n",
    "2. Add padding to make all the sequences the same length.\n",
    "\n",
    "Time to start preprocessing the data...\n",
    "### Tokenize (IMPLEMENTATION)\n",
    "For a neural network to predict on text data, it first has to be turned into data it can understand. Text data like \"dog\" is a sequence of ASCII character encodings.  Since a neural network is a series of multiplication and addition operations, the input data needs to be number(s).\n",
    "\n",
    "We can turn each character into a number or each word into a number.  These are called character and word ids, respectively.  Character ids are used for character level models that generate text predictions for each character.  A word level model uses word ids that generate text predictions for each word.  Word level models tend to learn better, since they are lower in complexity, so we'll use those.\n",
    "\n",
    "Turn each sentence into a sequence of words ids using Keras's [`Tokenizer`](https://keras.io/preprocessing/text/#tokenizer) function. Use this function to tokenize `english_sentences` and `french_sentences` in the cell below.\n",
    "\n",
    "Running the cell will run `tokenize` on sample data and show output for debugging."
   ]
  },
  {
   "cell_type": "code",
   "execution_count": 7,
   "metadata": {},
   "outputs": [
    {
     "name": "stdout",
     "output_type": "stream",
     "text": [
      "{'the': 1, 'quick': 2, 'a': 3, 'brown': 4, 'fox': 5, 'jumps': 6, 'over': 7, 'lazy': 8, 'dog': 9, 'by': 10, 'jove': 11, 'my': 12, 'study': 13, 'of': 14, 'lexicography': 15, 'won': 16, 'prize': 17, 'this': 18, 'is': 19, 'short': 20, 'sentence': 21}\n",
      "\n",
      "Sequence 1 in x\n",
      "  Input:  The quick brown fox jumps over the lazy dog .\n",
      "  Output: [1, 2, 4, 5, 6, 7, 1, 8, 9]\n",
      "Sequence 2 in x\n",
      "  Input:  By Jove , my quick study of lexicography won a prize .\n",
      "  Output: [10, 11, 12, 2, 13, 14, 15, 16, 3, 17]\n",
      "Sequence 3 in x\n",
      "  Input:  This is a short sentence .\n",
      "  Output: [18, 19, 3, 20, 21]\n"
     ]
    }
   ],
   "source": [
    "def tokenize(x):\n",
    "    \"\"\"\n",
    "    Tokenize x\n",
    "    :param x: List of sentences/strings to be tokenized\n",
    "    :return: Tuple of (tokenized x data, tokenizer used to tokenize x)\n",
    "    \"\"\"\n",
    "    # TODO: Implement\n",
    "    tokenizer  = Tokenizer()\n",
    "    tokenizer.fit_on_texts(x)\n",
    "    \n",
    "    return tokenizer.texts_to_sequences(x), tokenizer\n",
    "\n",
    "tests.test_tokenize(tokenize)\n",
    "\n",
    "# Tokenize Example output\n",
    "text_sentences = [\n",
    "    'The quick brown fox jumps over the lazy dog .',\n",
    "    'By Jove , my quick study of lexicography won a prize .',\n",
    "    'This is a short sentence .']\n",
    "text_tokenized, text_tokenizer = tokenize(text_sentences)\n",
    "print(text_tokenizer.word_index)\n",
    "print()\n",
    "for sample_i, (sent, token_sent) in enumerate(zip(text_sentences, text_tokenized)):\n",
    "    print('Sequence {} in x'.format(sample_i + 1))\n",
    "    print('  Input:  {}'.format(sent))\n",
    "    print('  Output: {}'.format(token_sent))"
   ]
  },
  {
   "cell_type": "markdown",
   "metadata": {},
   "source": [
    "### Padding (IMPLEMENTATION)\n",
    "When batching the sequence of word ids together, each sequence needs to be the same length.  Since sentences are dynamic in length, we can add padding to the end of the sequences to make them the same length.\n",
    "\n",
    "Make sure all the English sequences have the same length and all the French sequences have the same length by adding padding to the **end** of each sequence using Keras's [`pad_sequences`](https://keras.io/preprocessing/sequence/#pad_sequences) function."
   ]
  },
  {
   "cell_type": "code",
   "execution_count": 8,
   "metadata": {},
   "outputs": [
    {
     "name": "stdout",
     "output_type": "stream",
     "text": [
      "Sequence 1 in x\n",
      "  Input:  [1 2 4 5 6 7 1 8 9]\n",
      "  Output: [1 2 4 5 6 7 1 8 9 0]\n",
      "Sequence 2 in x\n",
      "  Input:  [10 11 12  2 13 14 15 16  3 17]\n",
      "  Output: [10 11 12  2 13 14 15 16  3 17]\n",
      "Sequence 3 in x\n",
      "  Input:  [18 19  3 20 21]\n",
      "  Output: [18 19  3 20 21  0  0  0  0  0]\n"
     ]
    }
   ],
   "source": [
    "def pad(x, length=None):\n",
    "    \"\"\"\n",
    "    Pad x\n",
    "    :param x: List of sequences.\n",
    "    :param length: Length to pad the sequence to.  If None, use length of longest sequence in x.\n",
    "    :return: Padded numpy array of sequences\n",
    "    \"\"\"\n",
    "    # TODO: Implement\n",
    "    if length is None:\n",
    "        length = max([len(sent) for sent in x])\n",
    "        \n",
    "    return pad_sequences(x, maxlen=length, padding = 'post')\n",
    "\n",
    "tests.test_pad(pad)\n",
    "\n",
    "# Pad Tokenized output\n",
    "test_pad = pad(text_tokenized)\n",
    "for sample_i, (token_sent, pad_sent) in enumerate(zip(text_tokenized, test_pad)):\n",
    "    print('Sequence {} in x'.format(sample_i + 1))\n",
    "    print('  Input:  {}'.format(np.array(token_sent)))\n",
    "    print('  Output: {}'.format(pad_sent))"
   ]
  },
  {
   "cell_type": "markdown",
   "metadata": {},
   "source": [
    "### Preprocess Pipeline\n",
    "Your focus for this project is to build neural network architecture, so we won't ask you to create a preprocess pipeline.  Instead, we've provided you with the implementation of the `preprocess` function."
   ]
  },
  {
   "cell_type": "code",
   "execution_count": 9,
   "metadata": {},
   "outputs": [
    {
     "name": "stdout",
     "output_type": "stream",
     "text": [
      "Data Preprocessed\n",
      "Max English sentence length: 15\n",
      "Max French sentence length: 21\n",
      "English vocabulary size: 199\n",
      "French vocabulary size: 344\n"
     ]
    }
   ],
   "source": [
    "def preprocess(x, y):\n",
    "    \"\"\"\n",
    "    Preprocess x and y\n",
    "    :param x: Feature List of sentences\n",
    "    :param y: Label List of sentences\n",
    "    :return: Tuple of (Preprocessed x, Preprocessed y, x tokenizer, y tokenizer)\n",
    "    \"\"\"\n",
    "    preprocess_x, x_tk = tokenize(x)\n",
    "    preprocess_y, y_tk = tokenize(y)\n",
    "\n",
    "    preprocess_x = pad(preprocess_x)\n",
    "    preprocess_y = pad(preprocess_y)\n",
    "\n",
    "    # Keras's sparse_categorical_crossentropy function requires the labels to be in 3 dimensions\n",
    "    preprocess_y = preprocess_y.reshape(*preprocess_y.shape, 1)\n",
    "\n",
    "    return preprocess_x, preprocess_y, x_tk, y_tk\n",
    "\n",
    "preproc_english_sentences, preproc_french_sentences, english_tokenizer, french_tokenizer =\\\n",
    "    preprocess(english_sentences, french_sentences)\n",
    "    \n",
    "max_english_sequence_length = preproc_english_sentences.shape[1]\n",
    "max_french_sequence_length = preproc_french_sentences.shape[1]\n",
    "english_vocab_size = len(english_tokenizer.word_index)\n",
    "french_vocab_size = len(french_tokenizer.word_index)\n",
    "\n",
    "print('Data Preprocessed')\n",
    "print(\"Max English sentence length:\", max_english_sequence_length)\n",
    "print(\"Max French sentence length:\", max_french_sequence_length)\n",
    "print(\"English vocabulary size:\", english_vocab_size)\n",
    "print(\"French vocabulary size:\", french_vocab_size)"
   ]
  },
  {
   "cell_type": "markdown",
   "metadata": {},
   "source": [
    "## Models\n",
    "In this section, you will experiment with various neural network architectures.\n",
    "You will begin by training four relatively simple architectures.\n",
    "- Model 1 is a simple RNN\n",
    "- Model 2 is a RNN with Embedding\n",
    "- Model 3 is a Bidirectional RNN\n",
    "- Model 4 is an Encoder-Decoder RNN\n",
    "\n",
    "After experimenting with the four simple architectures, you will construct a deeper architecture that is designed to outperform all four models.\n",
    "### Ids Back to Text\n",
    "The neural network will be translating the input to words ids, which isn't the final form we want.  We want the French translation.  The function `logits_to_text` will bridge the gab between the logits from the neural network to the French translation.  You'll be using this function to better understand the output of the neural network."
   ]
  },
  {
   "cell_type": "code",
   "execution_count": 17,
   "metadata": {},
   "outputs": [
    {
     "name": "stdout",
     "output_type": "stream",
     "text": [
      "`logits_to_text` function loaded.\n"
     ]
    }
   ],
   "source": [
    "def logits_to_text(logits, tokenizer):\n",
    "    \"\"\"\n",
    "    Turn logits from a neural network into text using the tokenizer\n",
    "    :param logits: Logits from a neural network\n",
    "    :param tokenizer: Keras Tokenizer fit on the labels\n",
    "    :return: String that represents the text of the logits\n",
    "    \"\"\"\n",
    "    index_to_words = {id: word for word, id in tokenizer.word_index.items()}\n",
    "    index_to_words[0] = '<PAD>'\n",
    "\n",
    "    return ' '.join([index_to_words[prediction] for prediction in np.argmax(logits, 1)])\n",
    "\n",
    "print('`logits_to_text` function loaded.')"
   ]
  },
  {
   "cell_type": "markdown",
   "metadata": {},
   "source": [
    "### Model 1: RNN (IMPLEMENTATION)\n",
    "![RNN](images/rnn.png)\n",
    "A basic RNN model is a good baseline for sequence data.  In this model, you'll build a RNN that translates English to French."
   ]
  },
  {
   "cell_type": "code",
   "execution_count": 17,
   "metadata": {},
   "outputs": [
    {
     "name": "stdout",
     "output_type": "stream",
     "text": [
      "Train on 110288 samples, validate on 27573 samples\n",
      "Epoch 1/10\n",
      "110288/110288 [==============================] - 18s 165us/step - loss: 2.1986 - acc: 0.5265 - val_loss: nan - val_acc: 0.6106\n",
      "Epoch 2/10\n",
      "110288/110288 [==============================] - 18s 161us/step - loss: 1.3066 - acc: 0.6273 - val_loss: nan - val_acc: 0.6413\n",
      "Epoch 3/10\n",
      "110288/110288 [==============================] - 18s 160us/step - loss: 1.1789 - acc: 0.6460 - val_loss: nan - val_acc: 0.6450\n",
      "Epoch 4/10\n",
      "110288/110288 [==============================] - 18s 160us/step - loss: 1.1020 - acc: 0.6578 - val_loss: nan - val_acc: 0.6693\n",
      "Epoch 5/10\n",
      "110288/110288 [==============================] - 18s 160us/step - loss: 1.0552 - acc: 0.6650 - val_loss: nan - val_acc: 0.6712\n",
      "Epoch 6/10\n",
      "110288/110288 [==============================] - 18s 160us/step - loss: 1.0160 - acc: 0.6713 - val_loss: nan - val_acc: 0.6703\n",
      "Epoch 7/10\n",
      "110288/110288 [==============================] - 18s 160us/step - loss: 0.9804 - acc: 0.6783 - val_loss: nan - val_acc: 0.6819\n",
      "Epoch 8/10\n",
      "110288/110288 [==============================] - 18s 159us/step - loss: 0.9514 - acc: 0.6857 - val_loss: nan - val_acc: 0.6851\n",
      "Epoch 9/10\n",
      "110288/110288 [==============================] - 18s 159us/step - loss: 0.9090 - acc: 0.7031 - val_loss: nan - val_acc: 0.7109\n",
      "Epoch 10/10\n",
      "110288/110288 [==============================] - 18s 159us/step - loss: 0.8909 - acc: 0.7121 - val_loss: nan - val_acc: 0.7120\n",
      "new jersey est parfois chaud en l' et et et il en en <PAD> <PAD> <PAD> <PAD> <PAD> <PAD> <PAD> <PAD>\n"
     ]
    }
   ],
   "source": [
    "def simple_model(input_shape, output_sequence_length, english_vocab_size, french_vocab_size):\n",
    "    \"\"\"\n",
    "    Build and train a basic RNN on x and y\n",
    "    :param input_shape: Tuple of input shape\n",
    "    :param output_sequence_length: Length of output sequence\n",
    "    :param english_vocab_size: Number of unique English words in the dataset\n",
    "    :param french_vocab_size: Number of unique French words in the dataset\n",
    "    :return: Keras model built, but not trained\n",
    "    \"\"\"\n",
    "    # TODO: Build the layers\n",
    "    #model = None\n",
    "    learning_rate = 1e-3\n",
    "    input_seq = Input(input_shape[1:])\n",
    "    gru  = GRU(500, activation=\"relu\",return_sequences=True)(input_seq)\n",
    "    out = TimeDistributed(Dense(french_vocab_size, activation='softmax'))(gru)\n",
    "    model = Model(input_seq, out)\n",
    "    model.compile(loss=sparse_categorical_crossentropy,\n",
    "                  optimizer=Adam(learning_rate),\n",
    "                  metrics=['accuracy'])\n",
    "\n",
    "    return model\n",
    "\n",
    "tests.test_simple_model(simple_model)\n",
    "\n",
    "# Reshaping the input to work with a basic RNN\n",
    "tmp_x = pad(preproc_english_sentences, max_french_sequence_length)\n",
    "tmp_x = tmp_x.reshape((-1, preproc_french_sentences.shape[-2], 1))\n",
    "\n",
    "# Train the neural network\n",
    "simple_rnn_model = simple_model(\n",
    "    tmp_x.shape,\n",
    "    max_french_sequence_length,\n",
    "    english_vocab_size,\n",
    "    french_vocab_size)\n",
    "simple_rnn_model.fit(tmp_x, preproc_french_sentences, batch_size=1024, epochs=10, validation_split=0.2)\n",
    "\n",
    "# Print prediction(s)\n",
    "print(logits_to_text(simple_rnn_model.predict(tmp_x[:1])[0], french_tokenizer))"
   ]
  },
  {
   "cell_type": "markdown",
   "metadata": {},
   "source": [
    "### Model 2: Embedding (IMPLEMENTATION)\n",
    "![RNN](images/embedding.png)\n",
    "You've turned the words into ids, but there's a better representation of a word.  This is called word embeddings.  An embedding is a vector representation of the word that is close to similar words in n-dimensional space, where the n represents the size of the embedding vectors.\n",
    "\n",
    "In this model, you'll create a RNN model using embedding."
   ]
  },
  {
   "cell_type": "code",
   "execution_count": 18,
   "metadata": {},
   "outputs": [
    {
     "name": "stdout",
     "output_type": "stream",
     "text": [
      "Train on 110288 samples, validate on 27573 samples\n",
      "Epoch 1/10\n",
      "110288/110288 [==============================] - 20s 178us/step - loss: 3.2216 - acc: 0.4360 - val_loss: nan - val_acc: 0.4818\n",
      "Epoch 2/10\n",
      "110288/110288 [==============================] - 19s 173us/step - loss: 2.2357 - acc: 0.5186 - val_loss: nan - val_acc: 0.5575\n",
      "Epoch 3/10\n",
      "110288/110288 [==============================] - 19s 172us/step - loss: 1.5781 - acc: 0.5978 - val_loss: nan - val_acc: 0.6361\n",
      "Epoch 4/10\n",
      "110288/110288 [==============================] - 19s 172us/step - loss: 1.2339 - acc: 0.6700 - val_loss: nan - val_acc: 0.7050\n",
      "Epoch 5/10\n",
      "110288/110288 [==============================] - 19s 172us/step - loss: 1.0041 - acc: 0.7248 - val_loss: nan - val_acc: 0.7487\n",
      "Epoch 6/10\n",
      "110288/110288 [==============================] - 19s 172us/step - loss: 0.8380 - acc: 0.7656 - val_loss: nan - val_acc: 0.7882\n",
      "Epoch 7/10\n",
      "110288/110288 [==============================] - 19s 172us/step - loss: 0.6878 - acc: 0.8031 - val_loss: nan - val_acc: 0.8153\n",
      "Epoch 8/10\n",
      "110288/110288 [==============================] - 19s 172us/step - loss: 0.5768 - acc: 0.8339 - val_loss: nan - val_acc: 0.8433\n",
      "Epoch 9/10\n",
      "110288/110288 [==============================] - 19s 172us/step - loss: 0.4852 - acc: 0.8581 - val_loss: nan - val_acc: 0.8637\n",
      "Epoch 10/10\n",
      "110288/110288 [==============================] - 19s 172us/step - loss: 0.4114 - acc: 0.8760 - val_loss: nan - val_acc: 0.8785\n",
      "new jersey est parfois calme en l' et il est neigeux en avril avril <PAD> <PAD> <PAD> <PAD> <PAD> <PAD> <PAD>\n"
     ]
    }
   ],
   "source": [
    "def embed_model(input_shape, output_sequence_length, english_vocab_size, french_vocab_size):\n",
    "    \"\"\"\n",
    "    Build and train a RNN model using word embedding on x and y\n",
    "    :param input_shape: Tuple of input shape\n",
    "    :param output_sequence_length: Length of output sequence\n",
    "    :param english_vocab_size: Number of unique English words in the dataset\n",
    "    :param french_vocab_size: Number of unique French words in the dataset\n",
    "    :return: Keras model built, but not trained\n",
    "    \"\"\"\n",
    "    # TODO: Implement\n",
    "    learning_rate = 1e-3\n",
    "    input_seq = Input(input_shape[1:])\n",
    "    embed=Embedding(input_dim=english_vocab_size, output_dim=output_sequence_length)(input_seq)\n",
    "    gru  = GRU(500, activation=\"relu\",return_sequences=True)(embed)\n",
    "    out = TimeDistributed(Dense(french_vocab_size, activation='softmax'))(gru)\n",
    "    model = Model(input_seq, out)\n",
    "    model.compile(loss=sparse_categorical_crossentropy,\n",
    "                  optimizer=Adam(learning_rate),\n",
    "                  metrics=['accuracy'])\n",
    "    \n",
    "    \n",
    "    return model\n",
    "tests.test_embed_model(embed_model)\n",
    "\n",
    "\n",
    "# TODO: Reshape the input\n",
    "tmp_x = pad(preproc_english_sentences, max_french_sequence_length)\n",
    "\n",
    "# TODO: Train the neural network\n",
    "embed_rnn_model = embed_model(\n",
    "    tmp_x.shape,\n",
    "    max_french_sequence_length,\n",
    "    english_vocab_size,\n",
    "    french_vocab_size)\n",
    "embed_rnn_model.fit(tmp_x, preproc_french_sentences, batch_size=1024, epochs=10, validation_split=0.2)\n",
    "\n",
    "# TODO: Print prediction(s)\n",
    "print(logits_to_text(embed_rnn_model.predict(tmp_x[:1])[0], french_tokenizer))"
   ]
  },
  {
   "cell_type": "markdown",
   "metadata": {},
   "source": [
    "### Model 3: Bidirectional RNNs (IMPLEMENTATION)\n",
    "![RNN](images/bidirectional.png)\n",
    "One restriction of a RNN is that it can't see the future input, only the past.  This is where bidirectional recurrent neural networks come in.  They are able to see the future data."
   ]
  },
  {
   "cell_type": "code",
   "execution_count": 19,
   "metadata": {},
   "outputs": [
    {
     "name": "stdout",
     "output_type": "stream",
     "text": [
      "Train on 110288 samples, validate on 27573 samples\n",
      "Epoch 1/10\n",
      "110288/110288 [==============================] - 34s 305us/step - loss: 1.8956 - acc: 0.5700 - val_loss: nan - val_acc: 0.6250\n",
      "Epoch 2/10\n",
      "110288/110288 [==============================] - 33s 297us/step - loss: 1.2209 - acc: 0.6466 - val_loss: nan - val_acc: 0.6597\n",
      "Epoch 3/10\n",
      "110288/110288 [==============================] - 33s 297us/step - loss: 1.1009 - acc: 0.6709 - val_loss: nan - val_acc: 0.6739\n",
      "Epoch 4/10\n",
      "110288/110288 [==============================] - 33s 296us/step - loss: 1.0282 - acc: 0.6834 - val_loss: nan - val_acc: 0.6897\n",
      "Epoch 5/10\n",
      "110288/110288 [==============================] - 33s 296us/step - loss: 0.9844 - acc: 0.6923 - val_loss: nan - val_acc: 0.6996\n",
      "Epoch 6/10\n",
      "110288/110288 [==============================] - 33s 296us/step - loss: 0.9461 - acc: 0.6994 - val_loss: nan - val_acc: 0.7016\n",
      "Epoch 7/10\n",
      "110288/110288 [==============================] - 33s 296us/step - loss: 0.9098 - acc: 0.7054 - val_loss: nan - val_acc: 0.7164\n",
      "Epoch 8/10\n",
      "110288/110288 [==============================] - 33s 296us/step - loss: 0.8990 - acc: 0.7084 - val_loss: nan - val_acc: 0.7062\n",
      "Epoch 9/10\n",
      "110288/110288 [==============================] - 33s 296us/step - loss: 0.8605 - acc: 0.7149 - val_loss: nan - val_acc: 0.7240\n",
      "Epoch 10/10\n",
      "110288/110288 [==============================] - 33s 296us/step - loss: 0.8512 - acc: 0.7183 - val_loss: nan - val_acc: 0.7095\n",
      "new jersey est parfois chaud au l' de il est est en en <PAD> <PAD> <PAD> <PAD> <PAD> <PAD> <PAD> <PAD>\n"
     ]
    }
   ],
   "source": [
    "def bd_model(input_shape, output_sequence_length, english_vocab_size, french_vocab_size):\n",
    "    \"\"\"\n",
    "    Build and train a bidirectional RNN model on x and y\n",
    "    :param input_shape: Tuple of input shape\n",
    "    :param output_sequence_length: Length of output sequence\n",
    "    :param english_vocab_size: Number of unique English words in the dataset\n",
    "    :param french_vocab_size: Number of unique French words in the dataset\n",
    "    :return: Keras model built, but not trained\n",
    "    \"\"\"\n",
    "    # TODO: Implement\n",
    "    learning_rate = 1e-3\n",
    "    input_seq = Input(input_shape[1:])\n",
    "    gru  = Bidirectional(GRU(500, activation=\"relu\",return_sequences=True))(input_seq)\n",
    "    out = TimeDistributed(Dense(french_vocab_size, activation='softmax'))(gru)\n",
    "    model = Model(input_seq, out)\n",
    "    model.compile(loss=sparse_categorical_crossentropy,\n",
    "                  optimizer=Adam(learning_rate),\n",
    "                  metrics=['accuracy'])\n",
    "    \n",
    "    return model\n",
    "tests.test_bd_model(bd_model)\n",
    "\n",
    "\n",
    "# TODO: Train and Print prediction(s)\n",
    "# Reshaping the input to work with a basic RNN\n",
    "tmp_x = pad(preproc_english_sentences, max_french_sequence_length)\n",
    "tmp_x = tmp_x.reshape((-1, preproc_french_sentences.shape[-2], 1))\n",
    "\n",
    "# Train the neural network\n",
    "bd_rnn_model = bd_model(\n",
    "    tmp_x.shape,\n",
    "    max_french_sequence_length,\n",
    "    english_vocab_size,\n",
    "    french_vocab_size)\n",
    "bd_rnn_model.fit(tmp_x, preproc_french_sentences, batch_size=1024, epochs=10, validation_split=0.2)\n",
    "\n",
    "# Print prediction(s)\n",
    "print(logits_to_text(bd_rnn_model.predict(tmp_x[:1])[0], french_tokenizer))"
   ]
  },
  {
   "cell_type": "markdown",
   "metadata": {},
   "source": [
    "### Model 4: Encoder-Decoder (IMPLEMENTATION)\n",
    "Time to look at encoder-decoder models.  This model is made up of an encoder and decoder. The encoder creates a matrix representation of the sentence.  The decoder takes this matrix as input and predicts the translation as output.\n",
    "\n",
    "Create an encoder-decoder model in the cell below."
   ]
  },
  {
   "cell_type": "code",
   "execution_count": 53,
   "metadata": {},
   "outputs": [
    {
     "name": "stdout",
     "output_type": "stream",
     "text": [
      "_________________________________________________________________\n",
      "Layer (type)                 Output Shape              Param #   \n",
      "=================================================================\n",
      "input_53 (InputLayer)        (None, 21, 1)             0         \n",
      "_________________________________________________________________\n",
      "gru_70 (GRU)                 (None, 500)               753000    \n",
      "_________________________________________________________________\n",
      "repeat_vector_33 (RepeatVect (None, 21, 500)           0         \n",
      "_________________________________________________________________\n",
      "gru_71 (GRU)                 (None, 21, 500)           1501500   \n",
      "_________________________________________________________________\n",
      "time_distributed_34 (TimeDis (None, 21, 345)           172845    \n",
      "=================================================================\n",
      "Total params: 2,427,345\n",
      "Trainable params: 2,427,345\n",
      "Non-trainable params: 0\n",
      "_________________________________________________________________\n",
      "Train on 110288 samples, validate on 27573 samples\n",
      "Epoch 1/10\n",
      "110288/110288 [==============================] - 41s 372us/step - loss: 2.7286 - acc: 0.4615 - val_loss: 1.8196 - val_acc: 0.5403\n",
      "Epoch 2/10\n",
      "110288/110288 [==============================] - 38s 345us/step - loss: 1.6209 - acc: 0.5679 - val_loss: 1.4183 - val_acc: 0.6008\n",
      "Epoch 3/10\n",
      "110288/110288 [==============================] - 38s 344us/step - loss: 1.3453 - acc: 0.6137 - val_loss: 1.2922 - val_acc: 0.6272\n",
      "Epoch 4/10\n",
      "110288/110288 [==============================] - 38s 345us/step - loss: 1.2493 - acc: 0.6324 - val_loss: 1.1799 - val_acc: 0.6432\n",
      "Epoch 5/10\n",
      "110288/110288 [==============================] - 38s 345us/step - loss: 1.1843 - acc: 0.6415 - val_loss: 1.1076 - val_acc: 0.6552\n",
      "Epoch 6/10\n",
      "110288/110288 [==============================] - 38s 344us/step - loss: 1.0782 - acc: 0.6607 - val_loss: 1.0486 - val_acc: 0.6652\n",
      "Epoch 7/10\n",
      "110288/110288 [==============================] - 38s 345us/step - loss: 1.0223 - acc: 0.6710 - val_loss: 0.9933 - val_acc: 0.6766\n",
      "Epoch 8/10\n",
      "110288/110288 [==============================] - 38s 347us/step - loss: 0.9750 - acc: 0.6813 - val_loss: 1.0023 - val_acc: 0.6766\n",
      "Epoch 9/10\n",
      "110288/110288 [==============================] - 38s 347us/step - loss: 0.8999 - acc: 0.6974 - val_loss: 0.8530 - val_acc: 0.7080\n",
      "Epoch 10/10\n",
      "110288/110288 [==============================] - 38s 347us/step - loss: 0.8795 - acc: 0.7019 - val_loss: 0.8390 - val_acc: 0.7099\n",
      "new jersey est généralement chaud en l' mais il est chaud en novembre <PAD> <PAD> <PAD> <PAD> <PAD> <PAD> <PAD> <PAD>\n"
     ]
    }
   ],
   "source": [
    "def encdec_model(input_shape, output_sequence_length, english_vocab_size, french_vocab_size):\n",
    "    \"\"\"\n",
    "    Build and train an encoder-decoder model on x and y\n",
    "    :param input_shape: Tuple of input shape\n",
    "    :param output_sequence_length: Length of output sequence\n",
    "    :param english_vocab_size: Number of unique English words in the dataset\n",
    "    :param french_vocab_size: Number of unique French words in the dataset\n",
    "    :return: Keras model built, but not trained\n",
    "    \"\"\"\n",
    "    # TODO: Implement\n",
    "    input_seq = Input(input_shape[1:])\n",
    "    learning_rate = 0.001\n",
    "    gru_enc  = GRU(500, activation=\"relu\",return_sequences=False)(input_seq)\n",
    "    repeat_vector = RepeatVector(output_sequence_length)(gru_enc)\n",
    "    \n",
    "    gru_dec  = GRU(500, activation=\"relu\",return_sequences=True)(repeat_vector)\n",
    "    output_layer = TimeDistributed(Dense(french_vocab_size, activation='softmax'))(gru_dec)\n",
    "    \n",
    "    model = Model(inputs=input_seq, outputs=output_layer)\n",
    "    model.compile(loss=sparse_categorical_crossentropy,\n",
    "                  optimizer=Adam(learning_rate),\n",
    "                  metrics=['accuracy'])\n",
    "\n",
    "    return model\n",
    "tests.test_encdec_model(encdec_model)\n",
    "\n",
    "tmp_x = pad(preproc_english_sentences, preproc_french_sentences.shape[1])\n",
    "tmp_x = tmp_x.reshape((-1, preproc_french_sentences.shape[-2], 1))\n",
    "\n",
    "# Train the neural network\n",
    "encdec_rnn_model = encdec_model(\n",
    "    tmp_x.shape,\n",
    "    preproc_french_sentences.shape[1],\n",
    "    len(english_tokenizer.word_index) + 1,\n",
    "    len(french_tokenizer.word_index) + 1)\n",
    "encdec_rnn_model.summary()\n",
    "encdec_rnn_model.fit(tmp_x, preproc_french_sentences, batch_size=1024, epochs=10, validation_split=0.2)\n",
    "\n",
    "# Print prediction(s)\n",
    "print(logits_to_text(encdec_rnn_model.predict(tmp_x[:1])[0], french_tokenizer))\n",
    "\n",
    "\n"
   ]
  },
  {
   "cell_type": "markdown",
   "metadata": {},
   "source": [
    "### Model 5: Custom (IMPLEMENTATION)\n",
    "Use everything you learned from the previous models to create a model that incorporates embedding and a bidirectional rnn into one model."
   ]
  },
  {
   "cell_type": "code",
   "execution_count": 26,
   "metadata": {},
   "outputs": [
    {
     "name": "stdout",
     "output_type": "stream",
     "text": [
      "Final Model Loaded\n",
      "_________________________________________________________________\n",
      "Layer (type)                 Output Shape              Param #   \n",
      "=================================================================\n",
      "input_22 (InputLayer)        (None, 21)                0         \n",
      "_________________________________________________________________\n",
      "embedding_22 (Embedding)     (None, 21, 21)            4179      \n",
      "_________________________________________________________________\n",
      "bidirectional_7 (Bidirection (None, 512)               427008    \n",
      "_________________________________________________________________\n",
      "repeat_vector_18 (RepeatVect (None, 21, 512)           0         \n",
      "_________________________________________________________________\n",
      "bidirectional_8 (Bidirection (None, 21, 512)           1181184   \n",
      "_________________________________________________________________\n",
      "time_distributed_16 (TimeDis (None, 21, 344)           176472    \n",
      "=================================================================\n",
      "Total params: 1,788,843\n",
      "Trainable params: 1,788,843\n",
      "Non-trainable params: 0\n",
      "_________________________________________________________________\n",
      "None\n",
      "Train on 110288 samples, validate on 27573 samples\n",
      "Epoch 1/30\n",
      "110288/110288 [==============================] - 44s 397us/step - loss: 3.0675 - acc: 0.4339 - val_loss: nan - val_acc: 0.4875\n",
      "Epoch 2/30\n",
      "110288/110288 [==============================] - 42s 377us/step - loss: 2.0761 - acc: 0.5250 - val_loss: nan - val_acc: 0.5648\n",
      "Epoch 3/30\n",
      "110288/110288 [==============================] - 41s 376us/step - loss: 1.5343 - acc: 0.5967 - val_loss: nan - val_acc: 0.6283\n",
      "Epoch 4/30\n",
      "110288/110288 [==============================] - 41s 376us/step - loss: 1.3139 - acc: 0.6359 - val_loss: nan - val_acc: 0.6553\n",
      "Epoch 5/30\n",
      "110288/110288 [==============================] - 41s 376us/step - loss: 1.1720 - acc: 0.6686 - val_loss: nan - val_acc: 0.6717\n",
      "Epoch 6/30\n",
      "110288/110288 [==============================] - 41s 376us/step - loss: 1.0835 - acc: 0.6900 - val_loss: nan - val_acc: 0.6808\n",
      "Epoch 7/30\n",
      "110288/110288 [==============================] - 41s 376us/step - loss: 1.1545 - acc: 0.6776 - val_loss: nan - val_acc: 0.7045\n",
      "Epoch 8/30\n",
      "110288/110288 [==============================] - 42s 376us/step - loss: 0.9772 - acc: 0.7115 - val_loss: nan - val_acc: 0.7251\n",
      "Epoch 9/30\n",
      "110288/110288 [==============================] - 41s 376us/step - loss: 0.9053 - acc: 0.7278 - val_loss: nan - val_acc: 0.7318\n",
      "Epoch 10/30\n",
      "110288/110288 [==============================] - 42s 377us/step - loss: 0.8831 - acc: 0.7325 - val_loss: nan - val_acc: 0.7411\n",
      "Epoch 11/30\n",
      "110288/110288 [==============================] - 41s 376us/step - loss: 0.8013 - acc: 0.7520 - val_loss: nan - val_acc: 0.7508\n",
      "Epoch 12/30\n",
      "110288/110288 [==============================] - 42s 376us/step - loss: 0.7724 - acc: 0.7587 - val_loss: nan - val_acc: 0.7558\n",
      "Epoch 13/30\n",
      "110288/110288 [==============================] - 41s 376us/step - loss: 0.7220 - acc: 0.7726 - val_loss: nan - val_acc: 0.7829\n",
      "Epoch 14/30\n",
      "110288/110288 [==============================] - 42s 376us/step - loss: 0.7574 - acc: 0.7669 - val_loss: nan - val_acc: 0.7910\n",
      "Epoch 15/30\n",
      "110288/110288 [==============================] - 41s 376us/step - loss: 0.6457 - acc: 0.7964 - val_loss: nan - val_acc: 0.8056\n",
      "Epoch 16/30\n",
      "110288/110288 [==============================] - 42s 377us/step - loss: 0.6447 - acc: 0.7973 - val_loss: nan - val_acc: 0.8060\n",
      "Epoch 17/30\n",
      "110288/110288 [==============================] - 41s 376us/step - loss: 0.5810 - acc: 0.8169 - val_loss: nan - val_acc: 0.8134\n",
      "Epoch 18/30\n",
      "110288/110288 [==============================] - 42s 376us/step - loss: 0.5692 - acc: 0.8201 - val_loss: nan - val_acc: 0.8284\n",
      "Epoch 19/30\n",
      "110288/110288 [==============================] - 41s 376us/step - loss: 0.5856 - acc: 0.8165 - val_loss: nan - val_acc: 0.8374\n",
      "Epoch 20/30\n",
      "110288/110288 [==============================] - 42s 376us/step - loss: 0.5080 - acc: 0.8379 - val_loss: nan - val_acc: 0.8472\n",
      "Epoch 21/30\n",
      "110288/110288 [==============================] - 41s 376us/step - loss: 0.4849 - acc: 0.8446 - val_loss: nan - val_acc: 0.8493\n",
      "Epoch 22/30\n",
      "110288/110288 [==============================] - 42s 377us/step - loss: 0.4556 - acc: 0.8536 - val_loss: nan - val_acc: 0.8617\n",
      "Epoch 23/30\n",
      "110288/110288 [==============================] - 41s 376us/step - loss: 0.4558 - acc: 0.8544 - val_loss: nan - val_acc: 0.8673\n",
      "Epoch 24/30\n",
      "110288/110288 [==============================] - 41s 376us/step - loss: 0.4093 - acc: 0.8694 - val_loss: nan - val_acc: 0.8765\n",
      "Epoch 25/30\n",
      "110288/110288 [==============================] - 41s 376us/step - loss: 0.4770 - acc: 0.8570 - val_loss: nan - val_acc: 0.6469\n",
      "Epoch 26/30\n",
      "110288/110288 [==============================] - 41s 376us/step - loss: 0.5368 - acc: 0.8370 - val_loss: nan - val_acc: 0.8860\n",
      "Epoch 27/30\n",
      "110288/110288 [==============================] - 41s 375us/step - loss: 0.3553 - acc: 0.8877 - val_loss: nan - val_acc: 0.8941\n",
      "Epoch 28/30\n",
      "110288/110288 [==============================] - 41s 376us/step - loss: 0.3577 - acc: 0.8868 - val_loss: nan - val_acc: 0.8961\n",
      "Epoch 29/30\n",
      "110288/110288 [==============================] - 41s 375us/step - loss: 0.3055 - acc: 0.9051 - val_loss: nan - val_acc: 0.9070\n",
      "Epoch 30/30\n",
      "110288/110288 [==============================] - 41s 376us/step - loss: 0.2857 - acc: 0.9112 - val_loss: nan - val_acc: 0.8908\n",
      "new jersey est parfois calme au cours de l' automne et il est en en <PAD> <PAD> <PAD> <PAD> <PAD> <PAD>\n"
     ]
    }
   ],
   "source": [
    "def model_final(input_shape, output_sequence_length, english_vocab_size, french_vocab_size):\n",
    "    \"\"\"\n",
    "    Build and train a model that incorporates embedding, encoder-decoder, and bidirectional RNN on x and y\n",
    "    :param input_shape: Tuple of input shape\n",
    "    :param output_sequence_length: Length of output sequence\n",
    "    :param english_vocab_size: Number of unique English words in the dataset\n",
    "    :param french_vocab_size: Number of unique French words in the dataset\n",
    "    :return: Keras model built, but not trained\n",
    "    \"\"\"\n",
    "    # TODO: Implement\n",
    "    input_seq = Input(input_shape[1:])\n",
    "    learning_rate = 0.001\n",
    "    embed = Embedding(input_dim=english_vocab_size, output_dim=output_sequence_length)(input_seq)\n",
    "    \n",
    "    gru_enc = Bidirectional(GRU(256, activation=\"relu\",return_sequences=False))(embed)\n",
    "    \n",
    "    repeat_vector = RepeatVector(output_sequence_length)(gru_enc)\n",
    "    \n",
    "    gru_dec  = Bidirectional(GRU(256, activation=\"relu\",return_sequences=True))(repeat_vector)\n",
    "    output_layer = TimeDistributed(Dense(french_vocab_size, activation='softmax'))(gru_dec)\n",
    "    \n",
    "    model = Model(inputs=input_seq, outputs=output_layer)\n",
    "    model.compile(loss=sparse_categorical_crossentropy,\n",
    "                  optimizer=Adam(learning_rate),\n",
    "                  metrics=['accuracy'])\n",
    "    \n",
    "    return model\n",
    "tests.test_model_final(model_final)\n",
    "\n",
    "\n",
    "print('Final Model Loaded')\n",
    "# TODO: Train the final model\n",
    "tmp_x = pad(preproc_english_sentences, max_french_sequence_length)\n",
    "\n",
    "final_model = model_final(\n",
    "    tmp_x.shape,\n",
    "    max_french_sequence_length,\n",
    "    english_vocab_size,\n",
    "    french_vocab_size)\n",
    "print(final_model.summary())\n",
    "final_model.fit(tmp_x, preproc_french_sentences, batch_size=1024, epochs=30, validation_split=0.2)\n",
    "\n",
    "print(logits_to_text(final_model.predict(tmp_x[:1])[0], french_tokenizer))"
   ]
  },
  {
   "cell_type": "markdown",
   "metadata": {},
   "source": [
    "## Prediction (IMPLEMENTATION)"
   ]
  },
  {
   "cell_type": "code",
   "execution_count": 28,
   "metadata": {},
   "outputs": [
    {
     "name": "stdout",
     "output_type": "stream",
     "text": [
      "Train on 110288 samples, validate on 27573 samples\n",
      "Epoch 1/30\n",
      "110288/110288 [==============================] - 40s 364us/step - loss: 2.9546 - acc: 0.4474 - val_loss: 2.3039 - val_acc: 0.5017\n",
      "Epoch 2/30\n",
      "110288/110288 [==============================] - 38s 342us/step - loss: 1.9530 - acc: 0.5282 - val_loss: 1.5765 - val_acc: 0.5862\n",
      "Epoch 3/30\n",
      "110288/110288 [==============================] - 38s 342us/step - loss: 1.5033 - acc: 0.6015 - val_loss: 1.3599 - val_acc: 0.6281\n",
      "Epoch 4/30\n",
      "110288/110288 [==============================] - 38s 341us/step - loss: 1.3871 - acc: 0.6271 - val_loss: 1.2299 - val_acc: 0.6621\n",
      "Epoch 5/30\n",
      "110288/110288 [==============================] - 38s 342us/step - loss: 1.1456 - acc: 0.6774 - val_loss: 1.0667 - val_acc: 0.6949\n",
      "Epoch 6/30\n",
      "110288/110288 [==============================] - 38s 342us/step - loss: 1.1132 - acc: 0.6846 - val_loss: 1.2354 - val_acc: 0.6560\n",
      "Epoch 7/30\n",
      "110288/110288 [==============================] - 38s 342us/step - loss: 1.0221 - acc: 0.7040 - val_loss: 0.9628 - val_acc: 0.7150\n",
      "Epoch 8/30\n",
      "110288/110288 [==============================] - 38s 341us/step - loss: 0.9312 - acc: 0.7220 - val_loss: 0.8879 - val_acc: 0.7307\n",
      "Epoch 9/30\n",
      "110288/110288 [==============================] - 38s 342us/step - loss: 0.8874 - acc: 0.7315 - val_loss: 0.8223 - val_acc: 0.7494\n",
      "Epoch 10/30\n",
      "110288/110288 [==============================] - 38s 342us/step - loss: 0.8128 - acc: 0.7499 - val_loss: 0.7755 - val_acc: 0.7613\n",
      "Epoch 11/30\n",
      "110288/110288 [==============================] - 38s 342us/step - loss: 0.7570 - acc: 0.7648 - val_loss: 0.7708 - val_acc: 0.7628\n",
      "Epoch 12/30\n",
      "110288/110288 [==============================] - 38s 342us/step - loss: 0.7091 - acc: 0.7777 - val_loss: 0.7049 - val_acc: 0.7784\n",
      "Epoch 13/30\n",
      "110288/110288 [==============================] - 38s 342us/step - loss: 0.6720 - acc: 0.7892 - val_loss: 0.6942 - val_acc: 0.7824\n",
      "Epoch 14/30\n",
      "110288/110288 [==============================] - 38s 342us/step - loss: 0.6341 - acc: 0.8001 - val_loss: 0.6174 - val_acc: 0.8043\n",
      "Epoch 15/30\n",
      "110288/110288 [==============================] - 38s 342us/step - loss: 0.6439 - acc: 0.8013 - val_loss: 0.9769 - val_acc: 0.7049\n",
      "Epoch 16/30\n",
      "110288/110288 [==============================] - 38s 342us/step - loss: 0.6401 - acc: 0.8030 - val_loss: 0.5519 - val_acc: 0.8264\n",
      "Epoch 17/30\n",
      "110288/110288 [==============================] - 38s 342us/step - loss: 0.5445 - acc: 0.8281 - val_loss: 0.5176 - val_acc: 0.8370\n",
      "Epoch 18/30\n",
      "110288/110288 [==============================] - 38s 341us/step - loss: 0.5196 - acc: 0.8355 - val_loss: 0.5219 - val_acc: 0.8344\n",
      "Epoch 19/30\n",
      "110288/110288 [==============================] - 38s 342us/step - loss: 0.4887 - acc: 0.8449 - val_loss: 0.4671 - val_acc: 0.8525\n",
      "Epoch 20/30\n",
      "110288/110288 [==============================] - 38s 342us/step - loss: 0.4609 - acc: 0.8535 - val_loss: 0.4889 - val_acc: 0.8409\n",
      "Epoch 21/30\n",
      "110288/110288 [==============================] - 38s 342us/step - loss: 0.4333 - acc: 0.8627 - val_loss: 0.4623 - val_acc: 0.8521\n",
      "Epoch 22/30\n",
      "110288/110288 [==============================] - 38s 341us/step - loss: 0.4167 - acc: 0.8684 - val_loss: 0.4064 - val_acc: 0.8713\n",
      "Epoch 23/30\n",
      "110288/110288 [==============================] - 38s 342us/step - loss: 0.3942 - acc: 0.8762 - val_loss: 0.3717 - val_acc: 0.8857\n",
      "Epoch 24/30\n",
      "110288/110288 [==============================] - 38s 342us/step - loss: 0.4464 - acc: 0.8651 - val_loss: 0.3608 - val_acc: 0.8903\n",
      "Epoch 25/30\n",
      "110288/110288 [==============================] - 38s 342us/step - loss: 0.3535 - acc: 0.8907 - val_loss: 0.3385 - val_acc: 0.8987\n",
      "Epoch 26/30\n",
      "110288/110288 [==============================] - 38s 341us/step - loss: 0.3223 - acc: 0.9018 - val_loss: 0.3543 - val_acc: 0.8902\n",
      "Epoch 27/30\n",
      "110288/110288 [==============================] - 38s 342us/step - loss: 0.3150 - acc: 0.9046 - val_loss: 0.3100 - val_acc: 0.9056\n",
      "Epoch 28/30\n",
      "110288/110288 [==============================] - 38s 341us/step - loss: 0.2832 - acc: 0.9149 - val_loss: 0.2773 - val_acc: 0.9182\n",
      "Epoch 29/30\n",
      "110288/110288 [==============================] - 38s 341us/step - loss: 0.2693 - acc: 0.9195 - val_loss: 0.2665 - val_acc: 0.9220\n",
      "Epoch 30/30\n",
      "110288/110288 [==============================] - 38s 341us/step - loss: 0.2484 - acc: 0.9266 - val_loss: 0.2574 - val_acc: 0.9242\n",
      "Sample 1:\n",
      "il a vu un vieux camion jaune <PAD> <PAD> <PAD> <PAD> <PAD> <PAD> <PAD> <PAD> <PAD> <PAD> <PAD> <PAD> <PAD> <PAD>\n",
      "Il a vu un vieux camion jaune\n",
      "Sample 2:\n",
      "new jersey est parfois calme à l'automne automne il automne neigeux il avril avril <PAD> avril <PAD> <PAD> <PAD> <PAD> <PAD>\n",
      "new jersey est parfois calme pendant l' automne et il est neigeux en avril <PAD> <PAD> <PAD> <PAD> <PAD> <PAD> <PAD>\n"
     ]
    }
   ],
   "source": [
    "def final_predictions(x, y, x_tk, y_tk):\n",
    "    \"\"\"\n",
    "    Gets predictions using the final model\n",
    "    :param x: Preprocessed English data\n",
    "    :param y: Preprocessed French data\n",
    "    :param x_tk: English tokenizer\n",
    "    :param y_tk: French tokenizer\n",
    "    \"\"\"\n",
    "    # TODO: Train neural network using model_final\n",
    "    model = model_final(x.shape, y.shape[1], len(x_tk.word_index)+1,len(y_tk.word_index)+1)\n",
    "    model.fit(x,y,batch_size=1024, epochs=30,validation_split=0.2)\n",
    "\n",
    "    \n",
    "    ## DON'T EDIT ANYTHING BELOW THIS LINE\n",
    "    y_id_to_word = {value: key for key, value in y_tk.word_index.items()}\n",
    "    y_id_to_word[0] = '<PAD>'\n",
    "\n",
    "    sentence = 'he saw a old yellow truck'\n",
    "    sentence = [x_tk.word_index[word] for word in sentence.split()]\n",
    "    sentence = pad_sequences([sentence], maxlen=x.shape[-1], padding='post')\n",
    "    sentences = np.array([sentence[0], x[0]])\n",
    "    predictions = model.predict(sentences, len(sentences))\n",
    "\n",
    "    print('Sample 1:')\n",
    "    print(' '.join([y_id_to_word[np.argmax(x)] for x in predictions[0]]))\n",
    "    print('Il a vu un vieux camion jaune')\n",
    "    print('Sample 2:')\n",
    "    print(' '.join([y_id_to_word[np.argmax(x)] for x in predictions[1]]))\n",
    "    print(' '.join([y_id_to_word[np.max(x)] for x in y[0]]))\n",
    "\n",
    "\n",
    "final_predictions(preproc_english_sentences, preproc_french_sentences, english_tokenizer, french_tokenizer)"
   ]
  },
  {
   "cell_type": "markdown",
   "metadata": {},
   "source": [
    "## Submission\n",
    "When you're ready to submit, complete the following steps:\n",
    "1. Review the rubric to ensure your submission meets all requirements to pass\n",
    "2. Generate an HTML version of this notebook\n",
    "\n",
    "  - Run the next cell to attempt automatic generation (this is the recommended method in Workspaces)\n",
    "  - Navigate to **FILE -> Download as -> HTML (.html)**\n",
    "  - Manually generate a copy using `nbconvert` from your shell terminal\n",
    "```\n",
    "$ pip install nbconvert\n",
    "$ python -m nbconvert machine_translation.ipynb\n",
    "```\n",
    "  \n",
    "3. Submit the project\n",
    "\n",
    "  - If you are in a Workspace, simply click the \"Submit Project\" button (bottom towards the right)\n",
    "  \n",
    "  - Otherwise, add the following files into a zip archive and submit them \n",
    "  - `helper.py`\n",
    "  - `machine_translation.ipynb`\n",
    "  - `machine_translation.html`\n",
    "    - You can export the notebook by navigating to **File -> Download as -> HTML (.html)**."
   ]
  },
  {
   "cell_type": "markdown",
   "metadata": {},
   "source": [
    "### Generate the html\n",
    "\n",
    "**Save your notebook before running the next cell to generate the HTML output.** Then submit your project."
   ]
  },
  {
   "cell_type": "code",
   "execution_count": 29,
   "metadata": {},
   "outputs": [
    {
     "data": {
      "text/plain": [
       "['[NbConvertApp] Converting notebook machine_translation.ipynb to html',\n",
       " '[NbConvertApp] Writing 377586 bytes to machine_translation.html',\n",
       " '[NbConvertApp] Converting notebook machine_translation-zh.ipynb to html',\n",
       " '[NbConvertApp] Writing 328544 bytes to machine_translation-zh.html']"
      ]
     },
     "execution_count": 29,
     "metadata": {},
     "output_type": "execute_result"
    }
   ],
   "source": [
    "# Save before you run this cell!\n",
    "!!jupyter nbconvert *.ipynb"
   ]
  },
  {
   "cell_type": "markdown",
   "metadata": {},
   "source": [
    "## Optional Enhancements\n",
    "\n",
    "This project focuses on learning various network architectures for machine translation, but we don't evaluate the models according to best practices by splitting the data into separate test & training sets -- so the model accuracy is overstated. Use the [`sklearn.model_selection.train_test_split()`](http://scikit-learn.org/stable/modules/generated/sklearn.model_selection.train_test_split.html) function to create separate training & test datasets, then retrain each of the models using only the training set and evaluate the prediction accuracy using the hold out test set. Does the \"best\" model change?"
   ]
  }
 ],
 "metadata": {
  "kernelspec": {
   "display_name": "Python 3",
   "language": "python",
   "name": "python3"
  },
  "language_info": {
   "codemirror_mode": {
    "name": "ipython",
    "version": 3
   },
   "file_extension": ".py",
   "mimetype": "text/x-python",
   "name": "python",
   "nbconvert_exporter": "python",
   "pygments_lexer": "ipython3",
   "version": "3.6.3"
  }
 },
 "nbformat": 4,
 "nbformat_minor": 1
}
